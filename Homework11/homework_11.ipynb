{
 "cells": [
  {
   "cell_type": "markdown",
   "id": "58373ab9",
   "metadata": {},
   "source": [
    "## 1. Setup Environment"
   ]
  },
  {
   "cell_type": "code",
   "execution_count": null,
   "id": "2bf4a132",
   "metadata": {},
   "outputs": [],
   "source": [
    "# John Knott\n",
    "# 4.7.2025\n",
    "# Homework 8\n",
    "\n",
    "!pip install spacy\n",
    "!pip install pandas\n",
    "!python -m spacy download en_core_web_sm"
   ]
  },
  {
   "cell_type": "code",
   "execution_count": 3,
   "id": "7383e57c",
   "metadata": {},
   "outputs": [],
   "source": [
    "# import libraries\n",
    "import spacy\n",
    "import pandas as pd"
   ]
  },
  {
   "cell_type": "code",
   "execution_count": 39,
   "id": "961941ad",
   "metadata": {},
   "outputs": [],
   "source": [
    "# load Spacy model\n",
    "nlp = spacy.load(\"en_core_web_sm\")"
   ]
  },
  {
   "cell_type": "markdown",
   "id": "757b020b",
   "metadata": {},
   "source": [
    "## 2. Load the Dataset"
   ]
  },
  {
   "cell_type": "code",
   "execution_count": null,
   "id": "52b3f5ed",
   "metadata": {},
   "outputs": [
    {
     "name": "stdout",
     "output_type": "stream",
     "text": [
      "  Symbol            CompanyName                        Industry MarketCap\n",
      "0      A   Agilent Technologies  Life Sciences Tools & Services    53.65B\n",
      "1     AA                  Alcoa                 Metals & Mining     9.25B\n",
      "2    AAC       Ares Acquisition                 Shell Companies     1.22B\n",
      "3   AACG  ATA Creativity Global   Diversified Consumer Services    90.35M\n",
      "4   AADI        Aadi Bioscience                 Pharmaceuticals   104.85M\n"
     ]
    }
   ],
   "source": [
    "# load stocks-1.tsv\n",
    "df = pd.read_csv(\"stocks-1.tsv\", sep=\"\\t\")\n",
    "# examine column names and data structure\n",
    "print(df.head())"
   ]
  },
  {
   "cell_type": "markdown",
   "id": "e0ec642a",
   "metadata": {},
   "source": [
    "## 3. Extract Data for Patterns"
   ]
  },
  {
   "cell_type": "code",
   "execution_count": 70,
   "id": "b0d86fe3",
   "metadata": {},
   "outputs": [],
   "source": [
    "\n",
    "\n",
    "# Load file with relative path\n",
    "df = pd.read_csv(\"stocks-1.tsv\", sep=\"\\t\")\n",
    "\n",
    "# extract unique stock symbols and names\n",
    "symbols = df['Symbol'].dropna().unique()\n",
    "company_names = df['CompanyName'].dropna().unique()\n",
    "\n",
    "# create patterns using for loops\n",
    "\n",
    "symbol_patterns = []\n",
    "for symbol in symbols:\n",
    "    pattern = {\"label\": \"STOCK\", \"pattern\": symbol}\n",
    "    symbol_patterns.append(pattern)\n",
    "\n",
    "\n",
    "company_patterns = []\n",
    "for name in company_names:\n",
    "    pattern = {\"label\": \"COMPANY\", \"pattern\": name}\n",
    "    company_patterns.append(pattern)\n",
    "\n",
    "# combine all patterns\n",
    "all_patterns = symbol_patterns + company_patterns\n",
    "\n",
    "\n"
   ]
  },
  {
   "cell_type": "markdown",
   "id": "27b48110",
   "metadata": {},
   "source": [
    "## 4. Create an Entity Ruler\n"
   ]
  },
  {
   "cell_type": "code",
   "execution_count": 71,
   "id": "8f91eff7",
   "metadata": {},
   "outputs": [],
   "source": [
    "#import entity ruler\n",
    "from spacy.pipeline import EntityRuler\n",
    "# Load spaCy model and add EntityRuler \n",
    "nlp = spacy.load(\"en_core_web_sm\")\n",
    "ruler = nlp.add_pipe(\"entity_ruler\", before=\"ner\")\n",
    "ruler.add_patterns(all_patterns)\n",
    "\n"
   ]
  },
  {
   "cell_type": "markdown",
   "id": "7e9b8a84",
   "metadata": {},
   "source": [
    "## 5. Test the EntityRuler"
   ]
  },
  {
   "cell_type": "code",
   "execution_count": 72,
   "id": "ddb953a9",
   "metadata": {},
   "outputs": [
    {
     "name": "stdout",
     "output_type": "stream",
     "text": [
      "Helmerich & Payne COMPANY\n",
      "HP STOCK\n",
      "1.5% PERCENT\n",
      "the Energy Equipment & Services ORG\n",
      "Check-Cap COMPANY\n",
      "CHEK STOCK\n",
      "2.3% PERCENT\n",
      "Vallon Pharmaceuticals COMPANY\n",
      "VLON STOCK\n",
      "0.8% PERCENT\n",
      "quarterly DATE\n",
      "Biotechnology ORG\n",
      "Sequans Communications COMPANY\n",
      "SQNS STOCK\n",
      "0.5% PERCENT\n",
      "Semiconductors & Semiconductor Equipment ORG\n"
     ]
    }
   ],
   "source": [
    "#load text\n",
    "text1 = \"Helmerich & Payne (HP) saw its stock rise by 1.5%, fueled by optimistic forecasts in the Energy Equipment & Services sector. In contrast, Check-Cap (CHEK) faced a decline of 2.3% following its announcement of increased costs related to supply chain disruptions.Meanwhile, Vallon Pharmaceuticals (VLON) gained 0.8% after strong quarterly earnings, outperforming its peers in the Biotechnology space. Sequans Communications (SQNS) also recorded a modest increase of 0.5%, reflecting investors' confidence in its ability to navigate challenges in the Semiconductors & Semiconductor Equipment industry.\"\n",
    "# Process the text using spacy model\n",
    "doc1 = nlp(text1)\n",
    "# print results\n",
    "for ent in doc1.ents:\n",
    "    print(ent.text, ent.label_)"
   ]
  },
  {
   "cell_type": "markdown",
   "id": "bb94eb55",
   "metadata": {},
   "source": [
    "Notes:\n",
    "Gets Organizations wrong. \n",
    "Quarterly is not a date.\n",
    "Gets percent, stocks, and companies right"
   ]
  },
  {
   "cell_type": "code",
   "execution_count": 73,
   "id": "080bc914",
   "metadata": {},
   "outputs": [
    {
     "name": "stdout",
     "output_type": "stream",
     "text": [
      "Aemetis COMPANY\n",
      "AMTX STOCK\n",
      "1.5% PERCENT\n",
      "the Oil, Gas & Consumable Fuels ORG\n",
      "Ferro Corporation COMPANY\n",
      "FOE STOCK\n",
      "2.3% PERCENT\n",
      "RingCentral COMPANY\n",
      "RNG STOCK\n",
      "0.8% PERCENT\n",
      "quarterly DATE\n",
      "Software ORG\n",
      "ACI Worldwide COMPANY\n",
      "ACIW STOCK\n",
      "0.5% PERCENT\n",
      "Software ORG\n"
     ]
    }
   ],
   "source": [
    "text2 = \"Aemetis (AMTX) saw its stock rise by 1.5%, fueled by optimistic forecasts in the Oil, Gas & Consumable Fuels sector. In contrast, Ferro Corporation (FOE) faced a decline of 2.3% following its announcement of increased costs related to supply chain disruptions.Meanwhile, RingCentral (RNG) gained 0.8% after strong quarterly earnings, outperforming its peers in the Software space. ACI Worldwide (ACIW) also recorded a modest increase of 0.5%, reflecting investors' confidence in its ability to navigate challenges in the Software industry.\"\n",
    "doc2 = nlp(text2)\n",
    "for ent in doc2.ents:\n",
    "    print(ent.text, ent.label_)"
   ]
  },
  {
   "cell_type": "markdown",
   "id": "b2b1b94b",
   "metadata": {},
   "source": [
    "Notes:\n",
    "Still gets ORG's wrong for example gets the Oil, Gas & Consumable Fuels wrong and labels it as an ORG"
   ]
  },
  {
   "cell_type": "code",
   "execution_count": null,
   "id": "07bb705a",
   "metadata": {},
   "outputs": [
    {
     "name": "stdout",
     "output_type": "stream",
     "text": [
      "Par Pacific Holdings COMPANY\n",
      "PARR STOCK\n",
      "1.5% PERCENT\n",
      "the Oil, Gas & Consumable Fuels ORG\n",
      "Nano Dimension COMPANY\n",
      "NNDM STOCK\n",
      "2.3% PERCENT\n",
      "Beyond Meat COMPANY\n",
      "BYND STOCK\n",
      "0.8% PERCENT\n",
      "quarterly DATE\n",
      "Food Products ORG\n",
      "Apollo Investment COMPANY\n",
      "AINV STOCK\n",
      "0.5% PERCENT\n",
      "Capital Markets ORG\n"
     ]
    },
    {
     "ename": "",
     "evalue": "",
     "output_type": "error",
     "traceback": [
      "\u001b[1;31mThe Kernel crashed while executing code in the current cell or a previous cell. \n",
      "\u001b[1;31mPlease review the code in the cell(s) to identify a possible cause of the failure. \n",
      "\u001b[1;31mClick <a href='https://aka.ms/vscodeJupyterKernelCrash'>here</a> for more info. \n",
      "\u001b[1;31mView Jupyter <a href='command:jupyter.viewOutput'>log</a> for further details."
     ]
    }
   ],
   "source": [
    "text3 = \"On a mixed trading day, Par Pacific Holdings (PARR) saw its stock rise by 1.5%, fueled by optimistic forecasts in the Oil, Gas & Consumable Fuels sector. In contrast, Nano Dimension (NNDM) faced a decline of 2.3% following its announcement of increased costs related to supply chain disruptions.Meanwhile, Beyond Meat (BYND) gained 0.8% after strong quarterly earnings, outperforming its peers in the Food Products space. Apollo Investment (AINV) also recorded a modest increase of 0.5%, reflecting investors' confidence in its ability to navigate challenges in the Capital Markets industry.\"\n",
    "doc3 = nlp(text3)\n",
    "for ent in doc3.ents:\n",
    "    print(ent.text, ent.label_)"
   ]
  },
  {
   "cell_type": "markdown",
   "id": "4482ee12",
   "metadata": {},
   "source": [
    "Notes: \n",
    "gets ORG's wrong. Everything else is correct."
   ]
  },
  {
   "cell_type": "markdown",
   "id": "3a339634",
   "metadata": {},
   "source": [
    "# Takeaways:\n",
    "\n",
    "In order to better be analyze these text files I need to be able to differentiate industries from Organizations. I would essentially do the same thing I did in part 3 but take into account the Industry column when adding patterns to my entity ruler."
   ]
  }
 ],
 "metadata": {
  "kernelspec": {
   "display_name": "base",
   "language": "python",
   "name": "python3"
  },
  "language_info": {
   "codemirror_mode": {
    "name": "ipython",
    "version": 3
   },
   "file_extension": ".py",
   "mimetype": "text/x-python",
   "name": "python",
   "nbconvert_exporter": "python",
   "pygments_lexer": "ipython3",
   "version": "3.12.7"
  }
 },
 "nbformat": 4,
 "nbformat_minor": 5
}

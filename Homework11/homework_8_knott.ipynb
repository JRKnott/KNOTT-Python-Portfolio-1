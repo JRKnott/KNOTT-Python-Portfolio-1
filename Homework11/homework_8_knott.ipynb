{
 "cells": [
  {
   "cell_type": "markdown",
   "id": "58373ab9",
   "metadata": {},
   "source": [
    "## 1. Setup Environment"
   ]
  },
  {
   "cell_type": "code",
   "execution_count": 1,
   "id": "2bf4a132",
   "metadata": {},
   "outputs": [
    {
     "name": "stdout",
     "output_type": "stream",
     "text": [
      "Requirement already satisfied: spacy in c:\\users\\john\\anaconda3\\lib\\site-packages (3.8.4)\n",
      "Requirement already satisfied: spacy-legacy<3.1.0,>=3.0.11 in c:\\users\\john\\anaconda3\\lib\\site-packages (from spacy) (3.0.12)\n",
      "Requirement already satisfied: spacy-loggers<2.0.0,>=1.0.0 in c:\\users\\john\\anaconda3\\lib\\site-packages (from spacy) (1.0.5)\n",
      "Requirement already satisfied: murmurhash<1.1.0,>=0.28.0 in c:\\users\\john\\anaconda3\\lib\\site-packages (from spacy) (1.0.12)\n",
      "Requirement already satisfied: cymem<2.1.0,>=2.0.2 in c:\\users\\john\\anaconda3\\lib\\site-packages (from spacy) (2.0.11)\n",
      "Requirement already satisfied: preshed<3.1.0,>=3.0.2 in c:\\users\\john\\anaconda3\\lib\\site-packages (from spacy) (3.0.9)\n",
      "Requirement already satisfied: thinc<8.4.0,>=8.3.4 in c:\\users\\john\\anaconda3\\lib\\site-packages (from spacy) (8.3.4)\n",
      "Requirement already satisfied: wasabi<1.2.0,>=0.9.1 in c:\\users\\john\\anaconda3\\lib\\site-packages (from spacy) (1.1.3)\n",
      "Requirement already satisfied: srsly<3.0.0,>=2.4.3 in c:\\users\\john\\anaconda3\\lib\\site-packages (from spacy) (2.5.1)\n",
      "Requirement already satisfied: catalogue<2.1.0,>=2.0.6 in c:\\users\\john\\anaconda3\\lib\\site-packages (from spacy) (2.0.10)\n",
      "Requirement already satisfied: weasel<0.5.0,>=0.1.0 in c:\\users\\john\\anaconda3\\lib\\site-packages (from spacy) (0.4.1)\n",
      "Requirement already satisfied: typer<1.0.0,>=0.3.0 in c:\\users\\john\\anaconda3\\lib\\site-packages (from spacy) (0.15.2)\n",
      "Requirement already satisfied: tqdm<5.0.0,>=4.38.0 in c:\\users\\john\\anaconda3\\lib\\site-packages (from spacy) (4.66.5)\n",
      "Requirement already satisfied: numpy>=1.19.0 in c:\\users\\john\\anaconda3\\lib\\site-packages (from spacy) (1.26.4)\n",
      "Requirement already satisfied: requests<3.0.0,>=2.13.0 in c:\\users\\john\\anaconda3\\lib\\site-packages (from spacy) (2.32.3)\n",
      "Requirement already satisfied: pydantic!=1.8,!=1.8.1,<3.0.0,>=1.7.4 in c:\\users\\john\\anaconda3\\lib\\site-packages (from spacy) (2.8.2)\n",
      "Requirement already satisfied: jinja2 in c:\\users\\john\\anaconda3\\lib\\site-packages (from spacy) (3.1.4)\n",
      "Requirement already satisfied: setuptools in c:\\users\\john\\anaconda3\\lib\\site-packages (from spacy) (75.1.0)\n",
      "Requirement already satisfied: packaging>=20.0 in c:\\users\\john\\anaconda3\\lib\\site-packages (from spacy) (24.1)\n",
      "Requirement already satisfied: langcodes<4.0.0,>=3.2.0 in c:\\users\\john\\anaconda3\\lib\\site-packages (from spacy) (3.5.0)\n",
      "Requirement already satisfied: language-data>=1.2 in c:\\users\\john\\anaconda3\\lib\\site-packages (from langcodes<4.0.0,>=3.2.0->spacy) (1.3.0)\n",
      "Requirement already satisfied: annotated-types>=0.4.0 in c:\\users\\john\\anaconda3\\lib\\site-packages (from pydantic!=1.8,!=1.8.1,<3.0.0,>=1.7.4->spacy) (0.6.0)\n",
      "Requirement already satisfied: pydantic-core==2.20.1 in c:\\users\\john\\anaconda3\\lib\\site-packages (from pydantic!=1.8,!=1.8.1,<3.0.0,>=1.7.4->spacy) (2.20.1)\n",
      "Requirement already satisfied: typing-extensions>=4.6.1 in c:\\users\\john\\anaconda3\\lib\\site-packages (from pydantic!=1.8,!=1.8.1,<3.0.0,>=1.7.4->spacy) (4.11.0)\n",
      "Requirement already satisfied: charset-normalizer<4,>=2 in c:\\users\\john\\anaconda3\\lib\\site-packages (from requests<3.0.0,>=2.13.0->spacy) (3.3.2)\n",
      "Requirement already satisfied: idna<4,>=2.5 in c:\\users\\john\\anaconda3\\lib\\site-packages (from requests<3.0.0,>=2.13.0->spacy) (3.7)\n",
      "Requirement already satisfied: urllib3<3,>=1.21.1 in c:\\users\\john\\anaconda3\\lib\\site-packages (from requests<3.0.0,>=2.13.0->spacy) (2.2.3)\n",
      "Requirement already satisfied: certifi>=2017.4.17 in c:\\users\\john\\anaconda3\\lib\\site-packages (from requests<3.0.0,>=2.13.0->spacy) (2024.8.30)\n",
      "Requirement already satisfied: blis<1.3.0,>=1.2.0 in c:\\users\\john\\anaconda3\\lib\\site-packages (from thinc<8.4.0,>=8.3.4->spacy) (1.2.0)\n",
      "Requirement already satisfied: confection<1.0.0,>=0.0.1 in c:\\users\\john\\anaconda3\\lib\\site-packages (from thinc<8.4.0,>=8.3.4->spacy) (0.1.5)\n",
      "Requirement already satisfied: colorama in c:\\users\\john\\anaconda3\\lib\\site-packages (from tqdm<5.0.0,>=4.38.0->spacy) (0.4.6)\n",
      "Requirement already satisfied: click>=8.0.0 in c:\\users\\john\\anaconda3\\lib\\site-packages (from typer<1.0.0,>=0.3.0->spacy) (8.1.7)\n",
      "Requirement already satisfied: shellingham>=1.3.0 in c:\\users\\john\\anaconda3\\lib\\site-packages (from typer<1.0.0,>=0.3.0->spacy) (1.5.4)\n",
      "Requirement already satisfied: rich>=10.11.0 in c:\\users\\john\\anaconda3\\lib\\site-packages (from typer<1.0.0,>=0.3.0->spacy) (13.7.1)\n",
      "Requirement already satisfied: cloudpathlib<1.0.0,>=0.7.0 in c:\\users\\john\\anaconda3\\lib\\site-packages (from weasel<0.5.0,>=0.1.0->spacy) (0.21.0)\n",
      "Requirement already satisfied: smart-open<8.0.0,>=5.2.1 in c:\\users\\john\\anaconda3\\lib\\site-packages (from weasel<0.5.0,>=0.1.0->spacy) (5.2.1)\n",
      "Requirement already satisfied: MarkupSafe>=2.0 in c:\\users\\john\\anaconda3\\lib\\site-packages (from jinja2->spacy) (2.1.3)\n",
      "Requirement already satisfied: marisa-trie>=1.1.0 in c:\\users\\john\\anaconda3\\lib\\site-packages (from language-data>=1.2->langcodes<4.0.0,>=3.2.0->spacy) (1.2.1)\n",
      "Requirement already satisfied: markdown-it-py>=2.2.0 in c:\\users\\john\\anaconda3\\lib\\site-packages (from rich>=10.11.0->typer<1.0.0,>=0.3.0->spacy) (2.2.0)\n",
      "Requirement already satisfied: pygments<3.0.0,>=2.13.0 in c:\\users\\john\\anaconda3\\lib\\site-packages (from rich>=10.11.0->typer<1.0.0,>=0.3.0->spacy) (2.15.1)\n",
      "Requirement already satisfied: mdurl~=0.1 in c:\\users\\john\\anaconda3\\lib\\site-packages (from markdown-it-py>=2.2.0->rich>=10.11.0->typer<1.0.0,>=0.3.0->spacy) (0.1.0)\n",
      "Requirement already satisfied: pandas in c:\\users\\john\\anaconda3\\lib\\site-packages (2.2.2)\n",
      "Requirement already satisfied: numpy>=1.26.0 in c:\\users\\john\\anaconda3\\lib\\site-packages (from pandas) (1.26.4)\n",
      "Requirement already satisfied: python-dateutil>=2.8.2 in c:\\users\\john\\anaconda3\\lib\\site-packages (from pandas) (2.9.0.post0)\n",
      "Requirement already satisfied: pytz>=2020.1 in c:\\users\\john\\anaconda3\\lib\\site-packages (from pandas) (2024.1)\n",
      "Requirement already satisfied: tzdata>=2022.7 in c:\\users\\john\\anaconda3\\lib\\site-packages (from pandas) (2023.3)\n",
      "Requirement already satisfied: six>=1.5 in c:\\users\\john\\anaconda3\\lib\\site-packages (from python-dateutil>=2.8.2->pandas) (1.16.0)\n",
      "Collecting en-core-web-sm==3.8.0\n",
      "  Downloading https://github.com/explosion/spacy-models/releases/download/en_core_web_sm-3.8.0/en_core_web_sm-3.8.0-py3-none-any.whl (12.8 MB)\n",
      "     ---------------------------------------- 0.0/12.8 MB ? eta -:--:--\n",
      "     ----------- ---------------------------- 3.7/12.8 MB 21.8 MB/s eta 0:00:01\n",
      "     ------------------ --------------------- 6.0/12.8 MB 16.1 MB/s eta 0:00:01\n",
      "     ------------------------ --------------- 7.9/12.8 MB 13.9 MB/s eta 0:00:01\n",
      "     ------------------------------- ------- 10.2/12.8 MB 12.8 MB/s eta 0:00:01\n",
      "     ------------------------------------ -- 12.1/12.8 MB 12.2 MB/s eta 0:00:01\n",
      "     --------------------------------------- 12.8/12.8 MB 11.6 MB/s eta 0:00:00\n",
      "\u001b[38;5;2m✔ Download and installation successful\u001b[0m\n",
      "You can now load the package via spacy.load('en_core_web_sm')\n"
     ]
    }
   ],
   "source": [
    "# John Knott\n",
    "# 4.7.2025\n",
    "# Homework 8\n",
    "\n",
    "!pip install spacy\n",
    "!pip install pandas\n",
    "!python -m spacy download en_core_web_sm"
   ]
  },
  {
   "cell_type": "code",
   "execution_count": 2,
   "id": "7383e57c",
   "metadata": {},
   "outputs": [],
   "source": [
    "# import libraries\n",
    "import spacy\n",
    "import pandas as pd"
   ]
  },
  {
   "cell_type": "code",
   "execution_count": 3,
   "id": "961941ad",
   "metadata": {},
   "outputs": [],
   "source": [
    "# load Spacy model\n",
    "nlp = spacy.load(\"en_core_web_sm\")"
   ]
  },
  {
   "cell_type": "markdown",
   "id": "757b020b",
   "metadata": {},
   "source": [
    "## 2. Load the Dataset"
   ]
  },
  {
   "cell_type": "code",
   "execution_count": 4,
   "id": "52b3f5ed",
   "metadata": {},
   "outputs": [
    {
     "name": "stdout",
     "output_type": "stream",
     "text": [
      "  Symbol            CompanyName                        Industry MarketCap\n",
      "0      A   Agilent Technologies  Life Sciences Tools & Services    53.65B\n",
      "1     AA                  Alcoa                 Metals & Mining     9.25B\n",
      "2    AAC       Ares Acquisition                 Shell Companies     1.22B\n",
      "3   AACG  ATA Creativity Global   Diversified Consumer Services    90.35M\n",
      "4   AADI        Aadi Bioscience                 Pharmaceuticals   104.85M\n"
     ]
    }
   ],
   "source": [
    "# load stocks-1.tsv\n",
    "df = pd.read_csv(\"stocks-1.tsv\", sep=\"\\t\")\n",
    "# examine column names and data structure\n",
    "print(df.head())"
   ]
  },
  {
   "cell_type": "markdown",
   "id": "e0ec642a",
   "metadata": {},
   "source": [
    "## 3. Extract Data for Patterns"
   ]
  },
  {
   "cell_type": "code",
   "execution_count": 5,
   "id": "b0d86fe3",
   "metadata": {},
   "outputs": [],
   "source": [
    "\n",
    "\n",
    "# Load file with relative path\n",
    "df = pd.read_csv(\"stocks-1.tsv\", sep=\"\\t\")\n",
    "\n",
    "# extract unique stock symbols and names\n",
    "symbols = df['Symbol'].dropna().unique()\n",
    "company_names = df['CompanyName'].dropna().unique()\n",
    "\n",
    "# create patterns using for loops\n",
    "\n",
    "symbol_patterns = []\n",
    "for symbol in symbols:\n",
    "    pattern = {\"label\": \"STOCK\", \"pattern\": symbol}\n",
    "    symbol_patterns.append(pattern)\n",
    "\n",
    "\n",
    "company_patterns = []\n",
    "for name in company_names:\n",
    "    pattern = {\"label\": \"COMPANY\", \"pattern\": name}\n",
    "    company_patterns.append(pattern)\n",
    "\n",
    "# combine all patterns\n",
    "all_patterns = symbol_patterns + company_patterns\n",
    "\n",
    "\n"
   ]
  },
  {
   "cell_type": "markdown",
   "id": "27b48110",
   "metadata": {},
   "source": [
    "## 4. Create an Entity Ruler\n"
   ]
  },
  {
   "cell_type": "code",
   "execution_count": 6,
   "id": "8f91eff7",
   "metadata": {},
   "outputs": [],
   "source": [
    "#import entity ruler\n",
    "from spacy.pipeline import EntityRuler\n",
    "# Load spaCy model and add EntityRuler \n",
    "nlp = spacy.load(\"en_core_web_sm\")\n",
    "ruler = nlp.add_pipe(\"entity_ruler\", before=\"ner\")\n",
    "ruler.add_patterns(all_patterns)\n",
    "\n"
   ]
  },
  {
   "cell_type": "markdown",
   "id": "7e9b8a84",
   "metadata": {},
   "source": [
    "## 5. Test the EntityRuler"
   ]
  },
  {
   "cell_type": "code",
   "execution_count": 7,
   "id": "ddb953a9",
   "metadata": {},
   "outputs": [
    {
     "name": "stdout",
     "output_type": "stream",
     "text": [
      "Helmerich & Payne COMPANY\n",
      "HP STOCK\n",
      "1.5% PERCENT\n",
      "the Energy Equipment & Services ORG\n",
      "Check-Cap COMPANY\n",
      "CHEK STOCK\n",
      "2.3% PERCENT\n",
      "Vallon Pharmaceuticals COMPANY\n",
      "VLON STOCK\n",
      "0.8% PERCENT\n",
      "quarterly DATE\n",
      "Biotechnology ORG\n",
      "Sequans Communications COMPANY\n",
      "SQNS STOCK\n",
      "0.5% PERCENT\n",
      "Semiconductors & Semiconductor Equipment ORG\n"
     ]
    }
   ],
   "source": [
    "#load text\n",
    "text1 = \"Helmerich & Payne (HP) saw its stock rise by 1.5%, fueled by optimistic forecasts in the Energy Equipment & Services sector. In contrast, Check-Cap (CHEK) faced a decline of 2.3% following its announcement of increased costs related to supply chain disruptions.Meanwhile, Vallon Pharmaceuticals (VLON) gained 0.8% after strong quarterly earnings, outperforming its peers in the Biotechnology space. Sequans Communications (SQNS) also recorded a modest increase of 0.5%, reflecting investors' confidence in its ability to navigate challenges in the Semiconductors & Semiconductor Equipment industry.\"\n",
    "# Process the text using spacy model\n",
    "doc1 = nlp(text1)\n",
    "# print results\n",
    "for ent in doc1.ents:\n",
    "    print(ent.text, ent.label_)"
   ]
  },
  {
   "cell_type": "markdown",
   "id": "bb94eb55",
   "metadata": {},
   "source": [
    "Notes:\n",
    "Gets Organizations wrong. \n",
    "Quarterly is not a date.\n",
    "Gets percent, stocks, and companies right"
   ]
  },
  {
   "cell_type": "code",
   "execution_count": 8,
   "id": "080bc914",
   "metadata": {},
   "outputs": [
    {
     "name": "stdout",
     "output_type": "stream",
     "text": [
      "Aemetis COMPANY\n",
      "AMTX STOCK\n",
      "1.5% PERCENT\n",
      "the Oil, Gas & Consumable Fuels ORG\n",
      "Ferro Corporation COMPANY\n",
      "FOE STOCK\n",
      "2.3% PERCENT\n",
      "RingCentral COMPANY\n",
      "RNG STOCK\n",
      "0.8% PERCENT\n",
      "quarterly DATE\n",
      "Software ORG\n",
      "ACI Worldwide COMPANY\n",
      "ACIW STOCK\n",
      "0.5% PERCENT\n",
      "Software ORG\n"
     ]
    }
   ],
   "source": [
    "text2 = \"Aemetis (AMTX) saw its stock rise by 1.5%, fueled by optimistic forecasts in the Oil, Gas & Consumable Fuels sector. In contrast, Ferro Corporation (FOE) faced a decline of 2.3% following its announcement of increased costs related to supply chain disruptions.Meanwhile, RingCentral (RNG) gained 0.8% after strong quarterly earnings, outperforming its peers in the Software space. ACI Worldwide (ACIW) also recorded a modest increase of 0.5%, reflecting investors' confidence in its ability to navigate challenges in the Software industry.\"\n",
    "doc2 = nlp(text2)\n",
    "for ent in doc2.ents:\n",
    "    print(ent.text, ent.label_)"
   ]
  },
  {
   "cell_type": "markdown",
   "id": "b2b1b94b",
   "metadata": {},
   "source": [
    "Notes:\n",
    "Still gets ORG's wrong for example gets the Oil, Gas & Consumable Fuels wrong and labels it as an ORG"
   ]
  },
  {
   "cell_type": "code",
   "execution_count": 9,
   "id": "07bb705a",
   "metadata": {},
   "outputs": [
    {
     "name": "stdout",
     "output_type": "stream",
     "text": [
      "Par Pacific Holdings COMPANY\n",
      "PARR STOCK\n",
      "1.5% PERCENT\n",
      "the Oil, Gas & Consumable Fuels ORG\n",
      "Nano Dimension COMPANY\n",
      "NNDM STOCK\n",
      "2.3% PERCENT\n",
      "Beyond Meat COMPANY\n",
      "BYND STOCK\n",
      "0.8% PERCENT\n",
      "quarterly DATE\n",
      "Food Products ORG\n",
      "Apollo Investment COMPANY\n",
      "AINV STOCK\n",
      "0.5% PERCENT\n",
      "Capital Markets ORG\n"
     ]
    }
   ],
   "source": [
    "text3 = \"On a mixed trading day, Par Pacific Holdings (PARR) saw its stock rise by 1.5%, fueled by optimistic forecasts in the Oil, Gas & Consumable Fuels sector. In contrast, Nano Dimension (NNDM) faced a decline of 2.3% following its announcement of increased costs related to supply chain disruptions.Meanwhile, Beyond Meat (BYND) gained 0.8% after strong quarterly earnings, outperforming its peers in the Food Products space. Apollo Investment (AINV) also recorded a modest increase of 0.5%, reflecting investors' confidence in its ability to navigate challenges in the Capital Markets industry.\"\n",
    "doc3 = nlp(text3)\n",
    "for ent in doc3.ents:\n",
    "    print(ent.text, ent.label_)"
   ]
  },
  {
   "cell_type": "markdown",
   "id": "4482ee12",
   "metadata": {},
   "source": [
    "Notes: \n",
    "gets ORG's wrong. Everything else is correct."
   ]
  },
  {
   "cell_type": "markdown",
   "id": "3a339634",
   "metadata": {},
   "source": [
    "# Takeaways:\n",
    "\n",
    "In order to better be analyze these text files I need to be able to differentiate industries from Organizations. I would essentially do the same thing I did in part 3 but take into account the Industry column when adding patterns to my entity ruler."
   ]
  }
 ],
 "metadata": {
  "kernelspec": {
   "display_name": "base",
   "language": "python",
   "name": "python3"
  },
  "language_info": {
   "codemirror_mode": {
    "name": "ipython",
    "version": 3
   },
   "file_extension": ".py",
   "mimetype": "text/x-python",
   "name": "python",
   "nbconvert_exporter": "python",
   "pygments_lexer": "ipython3",
   "version": "3.12.7"
  }
 },
 "nbformat": 4,
 "nbformat_minor": 5
}
